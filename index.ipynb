{
 "cells": [
  {
   "cell_type": "markdown",
   "metadata": {},
   "source": [
    "# APIs - Cumulative Lab\n",
    "\n",
    "\n",
    "## Introduction \n",
    "\n",
    "We've seen how the Yelp API works and how to create basic visualizations using Folium. It's time to put those skills to work in order to create a working map! Taking things a step further, you'll also independently explore how to perform pagination in order to retrieve a full results set from the Yelp API.\n",
    "\n",
    "## Objectives\n",
    "\n",
    "You will be able to: \n",
    "\n",
    "* Practice using functions to organize your code\n",
    "* Use pagination to retrieve all results from an API query\n",
    "* Practice parsing data returned from an API query\n",
    "* Practice interpreting visualizations of a dataset\n",
    "* Create maps using Folium"
   ]
  },
  {
   "cell_type": "markdown",
   "metadata": {},
   "source": [
    "## Your Task: Query Yelp for All Businesses in a Category and Analyze the Results\n",
    "\n",
    "![restaurant counter with pizza](images/restaurant_counter.jpg)\n",
    "\n",
    "Photo by <a href=\"https://unsplash.com/@jordanmadrid?utm_source=unsplash&utm_medium=referral&utm_content=creditCopyText\">Jordan Madrid</a> on <a href=\"/s/photos/pizza-restaurant?utm_source=unsplash&utm_medium=referral&utm_content=creditCopyText\">Unsplash</a>"
   ]
  },
  {
   "cell_type": "markdown",
   "metadata": {},
   "source": [
    "### Overview\n",
    "\n",
    "You've now worked with some API calls, but we have yet to see how to retrieve a more complete dataset in a programmatic manner. In this lab, you will write a query of businesses on Yelp, then use *pagination* to retrieve all possible results for that query. Then you will create a summary of your findings, including a Folium map of the geographic locations of those businesses.\n",
    "\n",
    "### Technical Details\n",
    "\n",
    "Returning to the Yelp API, the [documentation](https://www.yelp.com/developers/documentation/v3/business_search) also provides us details regarding the **API limits**. These often include details about the number of requests a user is allowed to make within a specified time limit and the maximum number of results to be returned. In this case, we are told that any request has a **maximum of 50 results per request** and defaults to 20. Furthermore, any search will be limited to a **total of 1000 results**. To retrieve all 1000 of these results, we would have to page through the results piece by piece, retrieving 50 at a time. Processes such as these are often referred to as pagination.\n",
    "\n",
    "Also, be mindful of the **API** ***rate*** **limits**. You can only make **5000 requests per day** and are also can make requests too fast. Start prototyping small before running a loop that could be faulty. You can also use `time.sleep(n)` to add delays. For more details see https://www.yelp.com/developers/documentation/v3/rate_limiting.\n",
    "\n",
    "In this lab, you will define a search and then paginate over the results to retrieve all of the results. You'll then parse these responses as a list of dictionaries (for further exploration) and create a map using Folium to visualize the results geographically.\n",
    "\n",
    "### Requirements\n",
    "\n",
    "#### 1. Make the Initial Request\n",
    "\n",
    "Start by filling in your API key to make the initial request to the business search API. Investigate the structure of the response you get back and start figuring out how you will extract the relevant information.\n",
    "\n",
    "#### 2. Add Pagination\n",
    "\n",
    "Using loops and functions, collect the maximum number of results for your query from the API.\n",
    "\n",
    "#### 3. Perform Exploratory Analysis\n",
    "\n",
    "Interpret visualizations related to the price range, average rating, and number of reviews for all query results.\n",
    "\n",
    "#### 4. Create a Folium Map\n",
    "\n",
    "Using latitude and longitude data, plot the query results on an interactive map."
   ]
  },
  {
   "cell_type": "markdown",
   "metadata": {},
   "source": [
    "## 1. Make the Initial Request\n",
    "\n",
    "### Querying\n",
    "\n",
    "Start by making an initial request to the Yelp API. Your search must include at least 2 parameters: **term** and **location**. For example, you might search for pizza restaurants in NYC. The term and location is up to you but make the request below.\n",
    "\n",
    "Use the `requests` library ([documentation here](https://requests.readthedocs.io/en/master/user/quickstart/#make-a-request)).\n",
    "\n",
    "You'll also need an API key from Yelp. If you haven't done this already, go to the Yelp [Manage App page](https://www.yelp.com/developers/v3/manage_app) and create a new app (after making an account if you haven't already)."
   ]
  },
  {
   "cell_type": "code",
   "execution_count": 2,
   "metadata": {},
   "outputs": [
    {
     "data": {
      "text/plain": [
       "<Response [200]>"
      ]
     },
     "execution_count": 2,
     "metadata": {},
     "output_type": "execute_result"
    }
   ],
   "source": [
    "# Replace None with appropriate code\n",
    "\n",
    "# Import the requests library\n",
    "import requests\n",
    "\n",
    "# Get this from the \"Manage App\" page. Make sure you set them\n",
    "# back to None before pushing this to GitHub, since otherwise\n",
    "# your credentials will be compromised\n",
    "api_key = 'M3sumrWfUxYMnLW9oQIg6jlSoZVvK5uOOPEmhdv96cOa4dL_kqfEPdayaxQfQpciRgX-tQnRKs1RZDGnyOut1hIA1TXzt0WYWeIngUV74nmwJ59mno7ZfKBpHOcAZHYx'\n",
    "\n",
    "# These can be whatever you want! But the solution uses \"pizza\"\n",
    "# and \"New York NY\" if you want to compare your work directly\n",
    "term = \"pizza\"\n",
    "location = \"New York NY\"\n",
    "\n",
    "# Set up params for request\n",
    "url = \"https://api.yelp.com/v3/businesses/search\"\n",
    "headers = {\n",
    "    \"Authorization\": \"Bearer {}\".format(api_key)\n",
    "}\n",
    "url_params = {\n",
    "    \"term\": term.replace(\" \", \"+\"),\n",
    "    \"location\": location.replace(\" \", \"+\")\n",
    "}\n",
    "\n",
    "# Make the request using requests.get, passing in\n",
    "# url, headers=headers, and params=url_params\n",
    "response = requests.get(url, headers=headers, params=url_params)\n",
    "\n",
    "# Confirm we got a 200 response\n",
    "response"
   ]
  },
  {
   "cell_type": "code",
   "execution_count": 3,
   "metadata": {},
   "outputs": [
    {
     "data": {
      "text/plain": [
       "dict_keys(['businesses', 'total', 'region'])"
      ]
     },
     "execution_count": 3,
     "metadata": {},
     "output_type": "execute_result"
    }
   ],
   "source": [
    "# Run this cell without changes\n",
    "\n",
    "# Get the response body in JSON format\n",
    "response_json = response.json()\n",
    "# View the keys\n",
    "response_json.keys()"
   ]
  },
  {
   "cell_type": "markdown",
   "metadata": {},
   "source": [
    "### Extracting Data\n",
    "\n",
    "Now, retrieve the value associated with the `'businesses'` key, and inspect its contents."
   ]
  },
  {
   "cell_type": "code",
   "execution_count": 4,
   "metadata": {},
   "outputs": [
    {
     "data": {
      "text/plain": [
       "[{'id': 'zj8Lq1T8KIC5zwFief15jg',\n",
       "  'alias': 'prince-street-pizza-new-york-2',\n",
       "  'name': 'Prince Street Pizza',\n",
       "  'image_url': 'https://s3-media2.fl.yelpcdn.com/bphoto/I4gm7i1zoamgAk1hmOKbKw/o.jpg',\n",
       "  'is_closed': False,\n",
       "  'url': 'https://www.yelp.com/biz/prince-street-pizza-new-york-2?adjust_creative=ptcrS2PSfCm9PIcY5k0fAg&utm_campaign=yelp_api_v3&utm_medium=api_v3_business_search&utm_source=ptcrS2PSfCm9PIcY5k0fAg',\n",
       "  'review_count': 4791,\n",
       "  'categories': [{'alias': 'pizza', 'title': 'Pizza'},\n",
       "   {'alias': 'italian', 'title': 'Italian'}],\n",
       "  'rating': 4.5,\n",
       "  'coordinates': {'latitude': 40.72308755605564,\n",
       "   'longitude': -73.99453001177575},\n",
       "  'transactions': ['pickup', 'delivery'],\n",
       "  'price': '$',\n",
       "  'location': {'address1': '27 Prince St',\n",
       "   'address2': None,\n",
       "   'address3': '',\n",
       "   'city': 'New York',\n",
       "   'zip_code': '10012',\n",
       "   'country': 'US',\n",
       "   'state': 'NY',\n",
       "   'display_address': ['27 Prince St', 'New York, NY 10012']},\n",
       "  'phone': '+12129664100',\n",
       "  'display_phone': '(212) 966-4100',\n",
       "  'distance': 2209.3116178604555},\n",
       " {'id': 'ysqgdbSrezXgVwER2kQWKA',\n",
       "  'alias': 'julianas-brooklyn-3',\n",
       "  'name': \"Juliana's\",\n",
       "  'image_url': 'https://s3-media2.fl.yelpcdn.com/bphoto/NVoLFle5H-SHNN6piAKIYw/o.jpg',\n",
       "  'is_closed': False,\n",
       "  'url': 'https://www.yelp.com/biz/julianas-brooklyn-3?adjust_creative=ptcrS2PSfCm9PIcY5k0fAg&utm_campaign=yelp_api_v3&utm_medium=api_v3_business_search&utm_source=ptcrS2PSfCm9PIcY5k0fAg',\n",
       "  'review_count': 2608,\n",
       "  'categories': [{'alias': 'pizza', 'title': 'Pizza'}],\n",
       "  'rating': 4.5,\n",
       "  'coordinates': {'latitude': 40.70274718768062,\n",
       "   'longitude': -73.99343490196397},\n",
       "  'transactions': ['delivery'],\n",
       "  'price': '$$',\n",
       "  'location': {'address1': '19 Old Fulton St',\n",
       "   'address2': '',\n",
       "   'address3': '',\n",
       "   'city': 'Brooklyn',\n",
       "   'zip_code': '11201',\n",
       "   'country': 'US',\n",
       "   'state': 'NY',\n",
       "   'display_address': ['19 Old Fulton St', 'Brooklyn, NY 11201']},\n",
       "  'phone': '+17185966700',\n",
       "  'display_phone': '(718) 596-6700',\n",
       "  'distance': 1289.8572856708206}]"
      ]
     },
     "execution_count": 4,
     "metadata": {},
     "output_type": "execute_result"
    }
   ],
   "source": [
    "# Replace None with appropriate code\n",
    "\n",
    "# Retrieve the value from response_json\n",
    "businesses = response_json['businesses']\n",
    "\n",
    "# View the first 2 records\n",
    "businesses[:2]"
   ]
  },
  {
   "cell_type": "markdown",
   "metadata": {},
   "source": [
    "### Preparing Data\n",
    "\n",
    "Write a function `prepare_data` that takes in a list of dictionaries like `businesses` and returns a copy that has been prepared for analysis:\n",
    "\n",
    "1. The `coordinates` key-value pair has been converted into two separate key-value pairs, `latitude` and `longitude`\n",
    "2. All other key-value pairs except for `name`, `review_count`, `rating`, and `price` have been dropped\n",
    "3. All dictionaries missing one of the relevant keys or containing null values have been dropped\n",
    "\n",
    "In other words, the final keys for each dictionary should be `name`, `review_count`, `rating`, `price`, `latitude`, and `longitude`.\n",
    "\n",
    "Complete the function in the cell below:"
   ]
  },
  {
   "cell_type": "code",
   "execution_count": null,
   "metadata": {},
   "outputs": [],
   "source": []
  },
  {
   "cell_type": "code",
   "execution_count": 6,
   "metadata": {},
   "outputs": [
    {
     "data": {
      "text/plain": [
       "[{'name': 'Prince Street Pizza',\n",
       "  'review_count': 4791,\n",
       "  'rating': 4.5,\n",
       "  'price': '$',\n",
       "  'latitude': 40.72308755605564,\n",
       "  'longitude': -73.99453001177575},\n",
       " {'name': \"Juliana's\",\n",
       "  'review_count': 2608,\n",
       "  'rating': 4.5,\n",
       "  'price': '$$',\n",
       "  'latitude': 40.70274718768062,\n",
       "  'longitude': -73.99343490196397},\n",
       " {'name': 'Rubirosa',\n",
       "  'review_count': 2920,\n",
       "  'rating': 4.5,\n",
       "  'price': '$$',\n",
       "  'latitude': 40.722766,\n",
       "  'longitude': -73.996233},\n",
       " {'name': \"Joe's Pizza\",\n",
       "  'review_count': 1788,\n",
       "  'rating': 4.0,\n",
       "  'price': '$',\n",
       "  'latitude': 40.7547,\n",
       "  'longitude': -73.98696},\n",
       " {'name': \"L'industrie Pizzeria\",\n",
       "  'review_count': 893,\n",
       "  'rating': 4.5,\n",
       "  'price': '$',\n",
       "  'latitude': 40.71162,\n",
       "  'longitude': -73.95783}]"
      ]
     },
     "execution_count": 6,
     "metadata": {},
     "output_type": "execute_result"
    }
   ],
   "source": [
    "# Replace None with appropriate code\n",
    "\n",
    "def prepare_data(data_list):\n",
    "    \"\"\"\n",
    "    This function takes in a list of dictionaries and prepares it\n",
    "    for analysis\n",
    "    \"\"\"\n",
    "    \n",
    "    # Make a new list to hold results\n",
    "    results = []\n",
    "    \n",
    "    for business_data in data_list:\n",
    "    \n",
    "        # Make a new dictionary to hold prepared data for this business\n",
    "        prepared_data = {}\n",
    "        \n",
    "        \n",
    "        # Extract name, review_count, rating, and price key-value pairs\n",
    "        # from business_data and add to prepared_data\n",
    "        # If a key is not present in business_data, add it to prepared_data\n",
    "        # with an associated value of None\n",
    "        for key in (\"name\", \"review_count\", \"rating\", \"price\"):\n",
    "            prepared_data[key] = business_data.get(key, None)\n",
    "    \n",
    "        # Parse and add latitude and longitude columns\n",
    "        prepared_data['latitude'] = business_data['coordinates']['latitude']\n",
    "        prepared_data['longitude'] = business_data['coordinates']['longitude']\n",
    "        \n",
    "        # Add to list if all values are present\n",
    "        if all(prepared_data.values()):\n",
    "            results.append(prepared_data)\n",
    "    \n",
    "    return results\n",
    "    \n",
    "# Test out function\n",
    "prepared_businesses = prepare_data(businesses)\n",
    "prepared_businesses[:5]"
   ]
  },
  {
   "cell_type": "markdown",
   "metadata": {},
   "source": [
    "Check that your function created the correct keys:"
   ]
  },
  {
   "cell_type": "code",
   "execution_count": 7,
   "metadata": {},
   "outputs": [],
   "source": [
    "# Run this cell without changes\n",
    "\n",
    "assert sorted(list(prepared_businesses[0].keys())) == ['latitude', 'longitude', 'name', 'price', 'rating', 'review_count']"
   ]
  },
  {
   "cell_type": "markdown",
   "metadata": {},
   "source": [
    "The following code will differ depending on your query, but we expect there to be 20 businesses in the original list, and potentially fewer in the prepared list (if any of them were missing data):"
   ]
  },
  {
   "cell_type": "code",
   "execution_count": 8,
   "metadata": {},
   "outputs": [
    {
     "name": "stdout",
     "output_type": "stream",
     "text": [
      "Original: 20\n",
      "Prepared: 19\n"
     ]
    }
   ],
   "source": [
    "# Run this cell without changes\n",
    "print(\"Original:\", len(businesses))\n",
    "print(\"Prepared:\", len(prepared_businesses))"
   ]
  },
  {
   "cell_type": "markdown",
   "metadata": {},
   "source": [
    "Great! We will reuse this function once we have retrieved the full dataset."
   ]
  },
  {
   "cell_type": "markdown",
   "metadata": {},
   "source": [
    "## 2. Add Pagination\n",
    "\n",
    "Now that you are able to extract information from one page of the response, let's figure out how to request as many pages as possible.\n",
    "\n",
    "### Determining the Total\n",
    "\n",
    "Depending on the number of total results for your query, you will either retrieve all of the results, or just the first 1000 (if there are more than 1000 total).\n",
    "\n",
    "We can find the total number of results using the `\"total\"` key:"
   ]
  },
  {
   "cell_type": "code",
   "execution_count": 9,
   "metadata": {},
   "outputs": [
    {
     "data": {
      "text/plain": [
       "15300"
      ]
     },
     "execution_count": 9,
     "metadata": {},
     "output_type": "execute_result"
    }
   ],
   "source": [
    "# Run this cell without changes\n",
    "response_json[\"total\"]"
   ]
  },
  {
   "cell_type": "markdown",
   "metadata": {},
   "source": [
    "(This is specific to the implementation of the Yelp API. Some APIs will just tell you that there are more pages, or will tell you the number of pages total, rather than the total number of results. If you're not sure, always check the documentation.)\n",
    "\n",
    "In the cell below, assign the variable `total` to either the value shown above (if it is less than 1000), or 1000."
   ]
  },
  {
   "cell_type": "code",
   "execution_count": 10,
   "metadata": {},
   "outputs": [],
   "source": [
    "# Replace None with appropriate code\n",
    "total = 1000"
   ]
  },
  {
   "cell_type": "markdown",
   "metadata": {},
   "source": [
    "### Calculating the Offsets\n",
    "\n",
    "The documentation states in the parameters section:\n",
    "\n",
    "> **Name**: `limit`, **Type:** int, **Description:** Optional. Number of business results to return. By default, it will return 20. Maximum is 50.\n",
    "\n",
    "> **Name**: `offset`, **Type:** int, **Description:** Optional. Offset the list of returned business results by this amount.\n",
    "\n",
    "So, to get the most results with the fewest API calls we want to set a limit of 50 every time. If, say, we wanted to get 210 total results, that would mean:\n",
    "\n",
    "1. Offset of `0` (first 50 records)\n",
    "2. Offset of `50` (second 50 records)\n",
    "3. Offset of `100` (third 50 records)\n",
    "4. Offset of `150` (fourth 50 records)\n",
    "5. Offset of `200` (final 10 records)\n",
    "\n",
    "In the cell below, create a function `get_offsets` that takes in a total and returns a list of offsets for that total. You can assume that there is a limit of 50 every time.\n",
    "\n",
    "*Hint: you can use `range` ([documentation here](https://docs.python.org/3.3/library/stdtypes.html?highlight=range#range)) to do this in one line of code. Just make the returned result is a list.*"
   ]
  },
  {
   "cell_type": "code",
   "execution_count": 18,
   "metadata": {},
   "outputs": [],
   "source": [
    "# Replace None with appropriate code\n",
    "def get_offsets(total):\n",
    "    \"\"\"\n",
    "    Get a list of offsets needed to get all pages\n",
    "    of data up until the total\n",
    "    \"\"\"\n",
    "    offsets = list(range(0, total, 50))\n",
    "    return offsets"
   ]
  },
  {
   "cell_type": "markdown",
   "metadata": {},
   "source": [
    "Check that your function works below:"
   ]
  },
  {
   "cell_type": "code",
   "execution_count": 19,
   "metadata": {},
   "outputs": [],
   "source": [
    "# Run this cell without changes\n",
    "\n",
    "assert get_offsets(200) == [0, 50, 100, 150]\n",
    "assert get_offsets(210) == [0, 50, 100, 150, 200]"
   ]
  },
  {
   "cell_type": "markdown",
   "metadata": {},
   "source": [
    "### Putting It All Together\n",
    "\n",
    "Recall that the following variable has already been declared for you:"
   ]
  },
  {
   "cell_type": "code",
   "execution_count": 20,
   "metadata": {},
   "outputs": [
    {
     "data": {
      "text/plain": [
       "{'term': 'pizza', 'location': 'New+York+NY'}"
      ]
     },
     "execution_count": 20,
     "metadata": {},
     "output_type": "execute_result"
    }
   ],
   "source": [
    "# Run this cell without changes\n",
    "url_params"
   ]
  },
  {
   "cell_type": "markdown",
   "metadata": {},
   "source": [
    "We'll go ahead and also specify that the limit should be 50 every time:"
   ]
  },
  {
   "cell_type": "code",
   "execution_count": 21,
   "metadata": {},
   "outputs": [],
   "source": [
    "# Run this cell without changes\n",
    "url_params[\"limit\"] = 50"
   ]
  },
  {
   "cell_type": "markdown",
   "metadata": {},
   "source": [
    "In order to modify the offset, you'll need to add it to `url_params` with the key `\"offset\"` and whatever value is needed.\n",
    "\n",
    "In the cell below, write code that:\n",
    "\n",
    "* Creates an empty list for the full prepared dataset\n",
    "* Loops over all of the offsets from `get_offsets` and makes an API call each time with the specified offset\n",
    "* Calls `prepare_data` to get a cleaned version of the result of each API call\n",
    "* Extends the full prepared dataset list with each query's prepared dataset"
   ]
  },
  {
   "cell_type": "code",
   "execution_count": 23,
   "metadata": {},
   "outputs": [
    {
     "data": {
      "text/plain": [
       "738"
      ]
     },
     "execution_count": 23,
     "metadata": {},
     "output_type": "execute_result"
    }
   ],
   "source": [
    "# Replace None with appropriate code\n",
    "\n",
    "# Create an empty list for the full prepared dataset\n",
    "full_dataset = []\n",
    "\n",
    "for offset in get_offsets(total):\n",
    "    # Add or update the \"offset\" key-value pair in url_params\n",
    "    url_params['offset'] = offset\n",
    "    \n",
    "    # Make the query and get the response\n",
    "    response = requests.get(url, headers=headers, params=url_params)\n",
    "    \n",
    "    # Get the response body in JSON format\n",
    "    response_json = response.json()\n",
    "    \n",
    "    # Get the list of businesses from the response_json\n",
    "    businesses = response_json['businesses']\n",
    "    \n",
    "    # Call the prepare_data function to get a list of processed data\n",
    "    prepared_businesses = prepare_data(businesses)\n",
    "    \n",
    "    # Extend full_dataset with this list (don't append, or you'll get\n",
    "    # a list of lists instead of a flat list)\n",
    "    full_dataset.extend(prepared_businesses)\n",
    "\n",
    "# Check the length of the full dataset. It will be up to `total`,\n",
    "# potentially less if there were missing values\n",
    "len(full_dataset)"
   ]
  },
  {
   "cell_type": "markdown",
   "metadata": {},
   "source": [
    "This code may take up to a few minutes to run.\n",
    "\n",
    "If you get an error trying to get the response body in JSON format, try adding `time.sleep(1)` right after the `requests.get` line, so your code will sleep for 1 second between each API call."
   ]
  },
  {
   "cell_type": "markdown",
   "metadata": {},
   "source": [
    "## 3. Perform Exploratory Analysis\n",
    "\n",
    "Take the businesses from the previous question and do an initial exploratory analysis. We have provided some plots for you to interpret:"
   ]
  },
  {
   "cell_type": "code",
   "execution_count": 24,
   "metadata": {},
   "outputs": [
    {
     "data": {
      "image/png": "[encoded data removed]",
      "text/plain": [
       "<Figure size 1152x360 with 3 Axes>"
      ]
     },
     "metadata": {
      "needs_background": "light"
     },
     "output_type": "display_data"
    }
   ],
   "source": [
    "# Run this cell without changes\n",
    "from collections import Counter\n",
    "import matplotlib.pyplot as plt\n",
    "%matplotlib inline\n",
    "\n",
    "fig, (ax1, ax2, ax3) = plt.subplots(ncols=3, figsize=(16, 5))\n",
    "\n",
    "# Plot distribution of number of reviews\n",
    "all_review_counts = [x[\"review_count\"] for x in full_dataset]\n",
    "ax1.hist(all_review_counts)\n",
    "ax1.set_title(\"Review Count Distribution\")\n",
    "ax1.set_xlabel(\"Number of Reviews\")\n",
    "ax1.set_ylabel(\"Number of Businesses\")\n",
    "\n",
    "# Plot rating distribution\n",
    "all_ratings = [x[\"rating\"] for x in full_dataset]\n",
    "rating_counter = Counter(all_ratings)\n",
    "rating_keys = sorted(rating_counter.keys())\n",
    "ax2.bar(rating_keys, [rating_counter[key] for key in rating_keys])\n",
    "ax2.set_title(\"Rating Distribution\")\n",
    "ax2.set_xlabel(\"Rating\")\n",
    "ax2.set_ylabel(\"Number of Businesses\")\n",
    "\n",
    "# Plot price distribution\n",
    "all_prices = [x[\"price\"].replace(\"$\", r\"\\$\") for x in full_dataset]\n",
    "price_counter = Counter(all_prices)\n",
    "price_keys = sorted(price_counter.keys())\n",
    "ax3.bar(price_keys, [price_counter[key] for key in price_keys])\n",
    "ax3.set_title(\"Price Distribution\")\n",
    "ax3.set_xlabel(\"Price Category\")\n",
    "ax3.set_ylabel(\"Number of Businesses\");"
   ]
  },
  {
   "cell_type": "markdown",
   "metadata": {},
   "source": [
    "Describe the distributions displayed above and interpret them in the context of your query. (Your answer may differ from the solution branch depending on your query.)"
   ]
  },
  {
   "cell_type": "code",
   "execution_count": 25,
   "metadata": {},
   "outputs": [
    {
     "data": {
      "text/plain": [
       "'\\nThe review count distribution is very skewed, with the majority of businesses\\nhaving fewer than 1000 reviews, but some businesses with as many as 6000. This\\nis a fairly typical \"long tail problem\" we see with ratings/reviews data, although\\nthat is usually represented with flipped axes\\n\\nThe rating distribution centers and peaks around 4, meaning the typical rating is\\naround 4 out of 5. There are no businesses with a rating below 2 in this dataset.\\n\\nThe price distribution is also skewed, with almost all results falling into the\\n$ or $$ category. This makes sense since we searched for \"pizza\".\\n'"
      ]
     },
     "execution_count": 25,
     "metadata": {},
     "output_type": "execute_result"
    }
   ],
   "source": [
    "# Replace None with appropriate text\n",
    "\"\"\"\n",
    "The review count distribution is very skewed, with the majority of businesses\n",
    "having fewer than 1000 reviews, but some businesses with as many as 6000. This\n",
    "is a fairly typical \"long tail problem\" we see with ratings/reviews data, although\n",
    "that is usually represented with flipped axes\n",
    "\n",
    "The rating distribution centers and peaks around 4, meaning the typical rating is\n",
    "around 4 out of 5. There are no businesses with a rating below 2 in this dataset.\n",
    "\n",
    "The price distribution is also skewed, with almost all results falling into the\n",
    "$ or $$ category. This makes sense since we searched for \"pizza\".\n",
    "\"\"\""
   ]
  },
  {
   "cell_type": "markdown",
   "metadata": {},
   "source": [
    "In the cell below, we also plot the rating distributions by price. In this setup, a price of one dollar sign is \"lower price\" and everything else is \"higher price\"."
   ]
  },
  {
   "cell_type": "code",
   "execution_count": 26,
   "metadata": {},
   "outputs": [
    {
     "data": {
      "image/png": "[encoded data removed]",
      "text/plain": [
       "<Figure size 432x288 with 1 Axes>"
      ]
     },
     "metadata": {
      "needs_background": "light"
     },
     "output_type": "display_data"
    }
   ],
   "source": [
    "# Run this cell without changes\n",
    "\n",
    "higher_price = []\n",
    "lower_price = []\n",
    "for row in full_dataset:\n",
    "    if row[\"price\"] == \"$\":\n",
    "        lower_price.append(row[\"rating\"])\n",
    "    else:\n",
    "        higher_price.append(row[\"rating\"])\n",
    "        \n",
    "fig, ax = plt.subplots()\n",
    "\n",
    "ax.hist([higher_price, lower_price], label=[\"higher price\", \"lower price\"], density=True)\n",
    "\n",
    "ax.legend();"
   ]
  },
  {
   "cell_type": "markdown",
   "metadata": {},
   "source": [
    "Is a higher price associated with a higher rating? (No need for any additional math/statistics, just interpret what you see in the plot.)"
   ]
  },
  {
   "cell_type": "code",
   "execution_count": 27,
   "metadata": {},
   "outputs": [
    {
     "data": {
      "text/plain": [
       "'\\nYes, higher price seems to be associated with a higher rating.\\n\\nThe peaks of the blue bars (higher price) are higher for ratings\\nof 4 or higher, whereas the peaks of the orange bars (lower price)\\nare higher for ratings of 3.5 or lower.\\n'"
      ]
     },
     "execution_count": 27,
     "metadata": {},
     "output_type": "execute_result"
    }
   ],
   "source": [
    "# Replace None with appropriate text\n",
    "\"\"\"\n",
    "Yes, higher price seems to be associated with a higher rating.\n",
    "\n",
    "The peaks of the blue bars (higher price) are higher for ratings\n",
    "of 4 or higher, whereas the peaks of the orange bars (lower price)\n",
    "are higher for ratings of 3.5 or lower.\n",
    "\"\"\""
   ]
  },
  {
   "cell_type": "markdown",
   "metadata": {},
   "source": [
    "Finally, let's look at ratings vs. review counts:"
   ]
  },
  {
   "cell_type": "code",
   "execution_count": 28,
   "metadata": {},
   "outputs": [
    {
     "data": {
      "image/png": "[encoded data removed]",
      "text/plain": [
       "<Figure size 1152x360 with 1 Axes>"
      ]
     },
     "metadata": {
      "needs_background": "light"
     },
     "output_type": "display_data"
    }
   ],
   "source": [
    "# Run this cell without changes\n",
    "fig, ax = plt.subplots(figsize=(16,5))\n",
    "\n",
    "ax.scatter(all_review_counts, all_ratings, alpha=0.2)\n",
    "ax.set_xlabel(\"Number of Reviews\")\n",
    "ax.set_ylabel(\"Rating\")\n",
    "# \"zoom in\" to a subset of review counts\n",
    "ax.set_xlim(left=0, right=1000);"
   ]
  },
  {
   "cell_type": "markdown",
   "metadata": {},
   "source": [
    "Is a higher number of reviews associated with a higher rating?"
   ]
  },
  {
   "cell_type": "code",
   "execution_count": 29,
   "metadata": {},
   "outputs": [
    {
     "data": {
      "text/plain": [
       "'\\nThis answer is a bit more ambiguous. Businesses with ratings of 5\\nOR below 3 seem to have fewer than 400 reviews. But also there\\nare a lot more ratings of 3.5 for businesses with <100 reviews\\nthan ratings of 3.0. We would need some more analysis and potentially\\na clarification of the question to answer this more thoroughly.\\n'"
      ]
     },
     "execution_count": 29,
     "metadata": {},
     "output_type": "execute_result"
    }
   ],
   "source": [
    "# Replace None with appropriate text\n",
    "\"\"\"\n",
    "This answer is a bit more ambiguous. Businesses with ratings of 5\n",
    "OR below 3 seem to have fewer than 400 reviews. But also there\n",
    "are a lot more ratings of 3.5 for businesses with <100 reviews\n",
    "than ratings of 3.0. We would need some more analysis and potentially\n",
    "a clarification of the question to answer this more thoroughly.\n",
    "\"\"\""
   ]
  },
  {
   "cell_type": "markdown",
   "metadata": {},
   "source": [
    "## 4. Create a Folium Map\n",
    "\n",
    "Make a map using Folium of the businesses you retrieved. Be sure to also add popups to the markers giving some basic information such as name, rating and price.\n",
    "\n",
    "You can center the map around the latitude and longitude of the first item in `full_dataset`."
   ]
  },
  {
   "cell_type": "code",
   "execution_count": null,
   "metadata": {},
   "outputs": [],
   "source": [
    "import folium\n",
    "\n",
    "# Set up center latitude and longitude\n",
    "center_lat = 41\n",
    "center_long = 75\n",
    "\n",
    "# Initialize map with center lat and long\n",
    "yelp_map = folium.Map([lat,long], zoom_start=13)\n",
    "yelp_map"
   ]
  },
  {
   "cell_type": "code",
   "execution_count": 32,
   "metadata": {
    "scrolled": true
   },
   "outputs": [
    {
     "data": {
      "text/html": [
       "<div style=\"width:100%;\"><div style=\"position:relative;width:100%;height:0;padding-bottom:60%;\"><span style=\"color:#565656\">Make this Notebook Trusted to load map: File -> Trust Notebook</span><iframe src=\"about:blank\" style=\"position:absolute;width:100%;height:100%;left:0;top:0;border:none !important;\" data-html=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 onload=\"this.contentDocument.open();this.contentDocument.write(atob(this.getAttribute('data-html')));this.contentDocument.close();\" allowfullscreen webkitallowfullscreen mozallowfullscreen></iframe></div></div>"
      ],
      "text/plain": [
       "<folium.folium.Map at 0x17ec56874c0>"
      ]
     },
     "execution_count": 32,
     "metadata": {},
     "output_type": "execute_result"
    }
   ],
   "source": [
    "# Replace None with appropriate code\n",
    "\n",
    "# Import the library\n",
    "import folium\n",
    "\n",
    "# Set up center latitude and longitude\n",
    "center_lat = 40.8\n",
    "center_long = -73.9\n",
    "\n",
    "# Initialize map with center lat and long\n",
    "yelp_map = folium.Map([center_lat, center_long], zoom_start=13)\n",
    "\n",
    "# Adjust this limit to see more or fewer businesses\n",
    "limit=100\n",
    "\n",
    "for business in full_dataset[:limit]:\n",
    "    # Extract information about business\n",
    "    lat = business['latitude']\n",
    "    long = business['longitude']\n",
    "    name = business['name']\n",
    "    rating = business['rating']\n",
    "    price = business['price']\n",
    "    details = \"{}\\nPrice: {} Rating:{}\".format(name,price,rating)\n",
    "    \n",
    "    # Create popup with relevant details\n",
    "    popup = folium.Popup(details)\n",
    "    \n",
    "    # Create marker with relevant lat/long and popup\n",
    "    marker = folium.Marker([lat, long], popup=popup)\n",
    "    \n",
    "    marker.add_to(yelp_map)\n",
    "    \n",
    "yelp_map"
   ]
  },
  {
   "cell_type": "markdown",
   "metadata": {},
   "source": [
    "## Summary\n",
    "\n",
    "Nice work! In this lab, you've made multiple API calls to Yelp in order to paginate through a results set, performing some basic exploratory analysis and then creating a nice interactive map to display the results using Folium! Well done!"
   ]
  }
 ],
 "metadata": {
  "kernelspec": {
   "display_name": "Python 3",
   "language": "python",
   "name": "python3"
  },
  "language_info": {
   "codemirror_mode": {
    "name": "ipython",
    "version": 3
   },
   "file_extension": ".py",
   "mimetype": "text/x-python",
   "name": "python",
   "nbconvert_exporter": "python",
   "pygments_lexer": "ipython3",
   "version": "3.8.5"
  },
  "toc": {
   "base_numbering": 1,
   "nav_menu": {},
   "number_sections": true,
   "sideBar": true,
   "skip_h1_title": false,
   "title_cell": "Table of Contents",
   "title_sidebar": "Contents",
   "toc_cell": false,
   "toc_position": {},
   "toc_section_display": true,
   "toc_window_display": false
  }
 },
 "nbformat": 4,
 "nbformat_minor": 2
}
